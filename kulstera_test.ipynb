{
  "nbformat": 4,
  "nbformat_minor": 0,
  "metadata": {
    "colab": {
      "name": "kulstera_test.ipynb",
      "provenance": [],
      "authorship_tag": "ABX9TyM7yuBQMD1kkRQFhIgBdw9a",
      "include_colab_link": true
    },
    "kernelspec": {
      "name": "python3",
      "display_name": "Python 3"
    },
    "language_info": {
      "name": "python"
    }
  },
  "cells": [
    {
      "cell_type": "markdown",
      "metadata": {
        "id": "view-in-github",
        "colab_type": "text"
      },
      "source": [
        "<a href=\"https://colab.research.google.com/github/hatchdavid1/dev.f_master_data_science/blob/main/kulstera_test.ipynb\" target=\"_parent\"><img src=\"https://colab.research.google.com/assets/colab-badge.svg\" alt=\"Open In Colab\"/></a>"
      ]
    },
    {
      "cell_type": "code",
      "metadata": {
        "colab": {
          "base_uri": "https://localhost:8080/"
        },
        "id": "mtRtGVaFK1gO",
        "outputId": "f0e1e700-ec77-46fe-8205-176c26da7539"
      },
      "source": [
        "import pandas as pd\n",
        "import numpy as np\n",
        "from google.colab import drive\n",
        "drive.mount('/content/drive')"
      ],
      "execution_count": null,
      "outputs": [
        {
          "output_type": "stream",
          "text": [
            "Mounted at /content/drive\n"
          ],
          "name": "stdout"
        }
      ]
    },
    {
      "cell_type": "code",
      "metadata": {
        "id": "BluZgqcWK97c"
      },
      "source": [
        "e = pd.read_csv('/content/drive/MyDrive/Códigos_Python/DEV.F/klustera/e.csv')\n",
        "v = pd.read_csv('/content/drive/MyDrive/Códigos_Python/DEV.F/klustera/v.csv')\n",
        "e.drop(columns = ['Unnamed: 0'], inplace = True)\n",
        "v.drop(columns = ['Unnamed: 0'], inplace = True )"
      ],
      "execution_count": null,
      "outputs": []
    },
    {
      "cell_type": "code",
      "metadata": {
        "colab": {
          "base_uri": "https://localhost:8080/",
          "height": 204
        },
        "id": "XECbnr--LUSd",
        "outputId": "e6000f92-244a-49c8-8be2-40efdfa6f821"
      },
      "source": [
        "e.head()"
      ],
      "execution_count": null,
      "outputs": [
        {
          "output_type": "execute_result",
          "data": {
            "text/html": [
              "<div>\n",
              "<style scoped>\n",
              "    .dataframe tbody tr th:only-of-type {\n",
              "        vertical-align: middle;\n",
              "    }\n",
              "\n",
              "    .dataframe tbody tr th {\n",
              "        vertical-align: top;\n",
              "    }\n",
              "\n",
              "    .dataframe thead th {\n",
              "        text-align: right;\n",
              "    }\n",
              "</style>\n",
              "<table border=\"1\" class=\"dataframe\">\n",
              "  <thead>\n",
              "    <tr style=\"text-align: right;\">\n",
              "      <th></th>\n",
              "      <th>device_mac</th>\n",
              "      <th>branch_office</th>\n",
              "      <th>month_tz</th>\n",
              "      <th>day_tz</th>\n",
              "      <th>day_of_week_tz</th>\n",
              "      <th>hour_tz</th>\n",
              "      <th>visitor</th>\n",
              "      <th>tiempodeses</th>\n",
              "    </tr>\n",
              "  </thead>\n",
              "  <tbody>\n",
              "    <tr>\n",
              "      <th>0</th>\n",
              "      <td>00:00:00:6a:17:ce</td>\n",
              "      <td>1</td>\n",
              "      <td>11</td>\n",
              "      <td>2</td>\n",
              "      <td>Wednesday</td>\n",
              "      <td>0</td>\n",
              "      <td>True</td>\n",
              "      <td>2676</td>\n",
              "    </tr>\n",
              "    <tr>\n",
              "      <th>1</th>\n",
              "      <td>00:00:00:6a:17:ce</td>\n",
              "      <td>1</td>\n",
              "      <td>11</td>\n",
              "      <td>2</td>\n",
              "      <td>Wednesday</td>\n",
              "      <td>1</td>\n",
              "      <td>True</td>\n",
              "      <td>2676</td>\n",
              "    </tr>\n",
              "    <tr>\n",
              "      <th>2</th>\n",
              "      <td>00:00:00:6a:78:ae</td>\n",
              "      <td>1</td>\n",
              "      <td>10</td>\n",
              "      <td>30</td>\n",
              "      <td>Sunday</td>\n",
              "      <td>20</td>\n",
              "      <td>False</td>\n",
              "      <td>0</td>\n",
              "    </tr>\n",
              "    <tr>\n",
              "      <th>3</th>\n",
              "      <td>00:00:02:fa:9c:12</td>\n",
              "      <td>1</td>\n",
              "      <td>11</td>\n",
              "      <td>13</td>\n",
              "      <td>Sunday</td>\n",
              "      <td>12</td>\n",
              "      <td>True</td>\n",
              "      <td>2272</td>\n",
              "    </tr>\n",
              "    <tr>\n",
              "      <th>4</th>\n",
              "      <td>00:00:08:7d:e2:58</td>\n",
              "      <td>3</td>\n",
              "      <td>11</td>\n",
              "      <td>4</td>\n",
              "      <td>Friday</td>\n",
              "      <td>19</td>\n",
              "      <td>False</td>\n",
              "      <td>0</td>\n",
              "    </tr>\n",
              "  </tbody>\n",
              "</table>\n",
              "</div>"
            ],
            "text/plain": [
              "          device_mac  branch_office  month_tz  ...  hour_tz visitor  tiempodeses\n",
              "0  00:00:00:6a:17:ce              1        11  ...        0    True         2676\n",
              "1  00:00:00:6a:17:ce              1        11  ...        1    True         2676\n",
              "2  00:00:00:6a:78:ae              1        10  ...       20   False            0\n",
              "3  00:00:02:fa:9c:12              1        11  ...       12    True         2272\n",
              "4  00:00:08:7d:e2:58              3        11  ...       19   False            0\n",
              "\n",
              "[5 rows x 8 columns]"
            ]
          },
          "metadata": {
            "tags": []
          },
          "execution_count": 8
        }
      ]
    },
    {
      "cell_type": "code",
      "metadata": {
        "colab": {
          "base_uri": "https://localhost:8080/",
          "height": 204
        },
        "id": "je_D8P4nLYP4",
        "outputId": "d46ad030-7fb7-4d8a-b70d-0732dfbbf290"
      },
      "source": [
        "v.head()"
      ],
      "execution_count": null,
      "outputs": [
        {
          "output_type": "execute_result",
          "data": {
            "text/html": [
              "<div>\n",
              "<style scoped>\n",
              "    .dataframe tbody tr th:only-of-type {\n",
              "        vertical-align: middle;\n",
              "    }\n",
              "\n",
              "    .dataframe tbody tr th {\n",
              "        vertical-align: top;\n",
              "    }\n",
              "\n",
              "    .dataframe thead th {\n",
              "        text-align: right;\n",
              "    }\n",
              "</style>\n",
              "<table border=\"1\" class=\"dataframe\">\n",
              "  <thead>\n",
              "    <tr style=\"text-align: right;\">\n",
              "      <th></th>\n",
              "      <th>device_mac</th>\n",
              "      <th>branch_office</th>\n",
              "      <th>month_tz</th>\n",
              "      <th>day_tz</th>\n",
              "      <th>day_of_week_tz</th>\n",
              "      <th>hour_tz</th>\n",
              "      <th>tiempodeses</th>\n",
              "    </tr>\n",
              "  </thead>\n",
              "  <tbody>\n",
              "    <tr>\n",
              "      <th>0</th>\n",
              "      <td>a8:81:95:56:31:3c</td>\n",
              "      <td>1</td>\n",
              "      <td>11</td>\n",
              "      <td>17</td>\n",
              "      <td>Thursday</td>\n",
              "      <td>4</td>\n",
              "      <td>0</td>\n",
              "    </tr>\n",
              "    <tr>\n",
              "      <th>1</th>\n",
              "      <td>44:6e:e5:1b:68:81</td>\n",
              "      <td>3</td>\n",
              "      <td>11</td>\n",
              "      <td>3</td>\n",
              "      <td>Thursday</td>\n",
              "      <td>22</td>\n",
              "      <td>477</td>\n",
              "    </tr>\n",
              "    <tr>\n",
              "      <th>2</th>\n",
              "      <td>0c:b3:19:10:78:17</td>\n",
              "      <td>3</td>\n",
              "      <td>11</td>\n",
              "      <td>12</td>\n",
              "      <td>Saturday</td>\n",
              "      <td>10</td>\n",
              "      <td>0</td>\n",
              "    </tr>\n",
              "    <tr>\n",
              "      <th>3</th>\n",
              "      <td>44:74:6c:0a:20:23</td>\n",
              "      <td>3</td>\n",
              "      <td>11</td>\n",
              "      <td>27</td>\n",
              "      <td>Sunday</td>\n",
              "      <td>21</td>\n",
              "      <td>0</td>\n",
              "    </tr>\n",
              "    <tr>\n",
              "      <th>4</th>\n",
              "      <td>ac:5f:3e:c8:dc:35</td>\n",
              "      <td>1</td>\n",
              "      <td>11</td>\n",
              "      <td>27</td>\n",
              "      <td>Sunday</td>\n",
              "      <td>16</td>\n",
              "      <td>0</td>\n",
              "    </tr>\n",
              "  </tbody>\n",
              "</table>\n",
              "</div>"
            ],
            "text/plain": [
              "          device_mac  branch_office  ...  hour_tz  tiempodeses\n",
              "0  a8:81:95:56:31:3c              1  ...        4            0\n",
              "1  44:6e:e5:1b:68:81              3  ...       22          477\n",
              "2  0c:b3:19:10:78:17              3  ...       10            0\n",
              "3  44:74:6c:0a:20:23              3  ...       21            0\n",
              "4  ac:5f:3e:c8:dc:35              1  ...       16            0\n",
              "\n",
              "[5 rows x 7 columns]"
            ]
          },
          "metadata": {
            "tags": []
          },
          "execution_count": 9
        }
      ]
    },
    {
      "cell_type": "code",
      "metadata": {
        "id": "wOXOaRKVLcJZ"
      },
      "source": [
        "# Preguntas para resolver la problemática \n",
        "#Filtrar por visitantes = True | agrupando por día | colapsando por tiempodeses\n",
        "#Comprobar si los meses en ambos datasets son los mismos\n",
        "#Qué sucursal es la más visitada y en qué día ocurre el mayor número de visitas \n",
        "#Qué sucursal tiene mayor permanencia por día"
      ],
      "execution_count": null,
      "outputs": []
    }
  ]
}
