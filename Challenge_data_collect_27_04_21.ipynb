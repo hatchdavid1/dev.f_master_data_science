{
  "nbformat": 4,
  "nbformat_minor": 0,
  "metadata": {
    "colab": {
      "name": "Challenge_data_collect_27_04_21.ipynb",
      "provenance": [],
      "collapsed_sections": [],
      "include_colab_link": true
    },
    "language_info": {
      "name": "python"
    },
    "kernelspec": {
      "name": "python3",
      "display_name": "Python 3"
    }
  },
  "cells": [
    {
      "cell_type": "markdown",
      "metadata": {
        "id": "view-in-github",
        "colab_type": "text"
      },
      "source": [
        "<a href=\"https://colab.research.google.com/github/hatchdavid1/dev.f_master_data_science/blob/main/Challenge_data_collect_27_04_21.ipynb\" target=\"_parent\"><img src=\"https://colab.research.google.com/assets/colab-badge.svg\" alt=\"Open In Colab\"/></a>"
      ]
    },
    {
      "cell_type": "code",
      "metadata": {
        "id": "N5Xg4ExNxI_-",
        "colab": {
          "base_uri": "https://localhost:8080/"
        },
        "outputId": "591e0429-6a55-4974-b36a-3766f56bc1c3"
      },
      "source": [
        "import csv\n",
        "import pandas as pd\n",
        "from google.colab import drive\n",
        "drive.mount('/content/drive')"
      ],
      "execution_count": 1,
      "outputs": [
        {
          "output_type": "stream",
          "text": [
            "Drive already mounted at /content/drive; to attempt to forcibly remount, call drive.mount(\"/content/drive\", force_remount=True).\n"
          ],
          "name": "stdout"
        }
      ]
    },
    {
      "cell_type": "code",
      "metadata": {
        "colab": {
          "base_uri": "https://localhost:8080/",
          "height": 197
        },
        "id": "8pfdOzg_zKx_",
        "outputId": "dc05abdc-f543-4b35-e210-7e354ef64c45"
      },
      "source": [
        "csv_file = open('/content/drive/MyDrive/Códigos_Python/DEV.F/fundamentos_python/master-data-ai-main/Kata Intro to Data Science/DataCollect/data/data-text.csv', 'r')\n",
        "reader = csv.reader(csv_file)\n",
        "lst = [row for row in reader]\n",
        "df = pd.DataFrame(lst, columns=lst[0])\n",
        "df = df.iloc[1: , :]\n",
        "df.head()"
      ],
      "execution_count": 2,
      "outputs": [
        {
          "output_type": "execute_result",
          "data": {
            "text/html": [
              "<div>\n",
              "<style scoped>\n",
              "    .dataframe tbody tr th:only-of-type {\n",
              "        vertical-align: middle;\n",
              "    }\n",
              "\n",
              "    .dataframe tbody tr th {\n",
              "        vertical-align: top;\n",
              "    }\n",
              "\n",
              "    .dataframe thead th {\n",
              "        text-align: right;\n",
              "    }\n",
              "</style>\n",
              "<table border=\"1\" class=\"dataframe\">\n",
              "  <thead>\n",
              "    <tr style=\"text-align: right;\">\n",
              "      <th></th>\n",
              "      <th>Indicator</th>\n",
              "      <th>PUBLISH STATES</th>\n",
              "      <th>Year</th>\n",
              "      <th>WHO region</th>\n",
              "      <th>World Bank income group</th>\n",
              "      <th>Country</th>\n",
              "      <th>Sex</th>\n",
              "      <th>Display Value</th>\n",
              "      <th>Numeric</th>\n",
              "      <th>Low</th>\n",
              "      <th>High</th>\n",
              "      <th>Comments</th>\n",
              "    </tr>\n",
              "  </thead>\n",
              "  <tbody>\n",
              "    <tr>\n",
              "      <th>1</th>\n",
              "      <td>Life expectancy at birth (years)</td>\n",
              "      <td>Published</td>\n",
              "      <td>1990</td>\n",
              "      <td>Europe</td>\n",
              "      <td>High-income</td>\n",
              "      <td>Andorra</td>\n",
              "      <td>Both sexes</td>\n",
              "      <td>77</td>\n",
              "      <td>77.00000</td>\n",
              "      <td></td>\n",
              "      <td></td>\n",
              "      <td></td>\n",
              "    </tr>\n",
              "    <tr>\n",
              "      <th>2</th>\n",
              "      <td>Life expectancy at birth (years)</td>\n",
              "      <td>Published</td>\n",
              "      <td>2000</td>\n",
              "      <td>Europe</td>\n",
              "      <td>High-income</td>\n",
              "      <td>Andorra</td>\n",
              "      <td>Both sexes</td>\n",
              "      <td>80</td>\n",
              "      <td>80.00000</td>\n",
              "      <td></td>\n",
              "      <td></td>\n",
              "      <td></td>\n",
              "    </tr>\n",
              "    <tr>\n",
              "      <th>3</th>\n",
              "      <td>Life expectancy at age 60 (years)</td>\n",
              "      <td>Published</td>\n",
              "      <td>2012</td>\n",
              "      <td>Europe</td>\n",
              "      <td>High-income</td>\n",
              "      <td>Andorra</td>\n",
              "      <td>Female</td>\n",
              "      <td>28</td>\n",
              "      <td>28.00000</td>\n",
              "      <td></td>\n",
              "      <td></td>\n",
              "      <td></td>\n",
              "    </tr>\n",
              "    <tr>\n",
              "      <th>4</th>\n",
              "      <td>Life expectancy at age 60 (years)</td>\n",
              "      <td>Published</td>\n",
              "      <td>2000</td>\n",
              "      <td>Europe</td>\n",
              "      <td>High-income</td>\n",
              "      <td>Andorra</td>\n",
              "      <td>Both sexes</td>\n",
              "      <td>23</td>\n",
              "      <td>23.00000</td>\n",
              "      <td></td>\n",
              "      <td></td>\n",
              "      <td></td>\n",
              "    </tr>\n",
              "    <tr>\n",
              "      <th>5</th>\n",
              "      <td>Life expectancy at birth (years)</td>\n",
              "      <td>Published</td>\n",
              "      <td>2012</td>\n",
              "      <td>Eastern Mediterranean</td>\n",
              "      <td>High-income</td>\n",
              "      <td>United Arab Emirates</td>\n",
              "      <td>Female</td>\n",
              "      <td>78</td>\n",
              "      <td>78.00000</td>\n",
              "      <td></td>\n",
              "      <td></td>\n",
              "      <td></td>\n",
              "    </tr>\n",
              "  </tbody>\n",
              "</table>\n",
              "</div>"
            ],
            "text/plain": [
              "                           Indicator PUBLISH STATES  Year  ... Low High Comments\n",
              "1   Life expectancy at birth (years)      Published  1990  ...                  \n",
              "2   Life expectancy at birth (years)      Published  2000  ...                  \n",
              "3  Life expectancy at age 60 (years)      Published  2012  ...                  \n",
              "4  Life expectancy at age 60 (years)      Published  2000  ...                  \n",
              "5   Life expectancy at birth (years)      Published  2012  ...                  \n",
              "\n",
              "[5 rows x 12 columns]"
            ]
          },
          "metadata": {
            "tags": []
          },
          "execution_count": 2
        }
      ]
    },
    {
      "cell_type": "code",
      "metadata": {
        "colab": {
          "base_uri": "https://localhost:8080/",
          "height": 197
        },
        "id": "FthIWmEv0cxo",
        "outputId": "d33c95a4-5ee0-406c-f295-f30c18bad707"
      },
      "source": [
        "import json\n",
        "json_data = open('/content/drive/MyDrive/Códigos_Python/DEV.F/fundamentos_python/master-data-ai-main/Kata Intro to Data Science/DataCollect/data/data-text.json').read()\n",
        "data = json.loads(json_data)\n",
        "df_json = pd.DataFrame(data)\n",
        "df_json.head()"
      ],
      "execution_count": 3,
      "outputs": [
        {
          "output_type": "execute_result",
          "data": {
            "text/html": [
              "<div>\n",
              "<style scoped>\n",
              "    .dataframe tbody tr th:only-of-type {\n",
              "        vertical-align: middle;\n",
              "    }\n",
              "\n",
              "    .dataframe tbody tr th {\n",
              "        vertical-align: top;\n",
              "    }\n",
              "\n",
              "    .dataframe thead th {\n",
              "        text-align: right;\n",
              "    }\n",
              "</style>\n",
              "<table border=\"1\" class=\"dataframe\">\n",
              "  <thead>\n",
              "    <tr style=\"text-align: right;\">\n",
              "      <th></th>\n",
              "      <th>Indicator</th>\n",
              "      <th>PUBLISH STATES</th>\n",
              "      <th>Year</th>\n",
              "      <th>WHO region</th>\n",
              "      <th>World Bank income group</th>\n",
              "      <th>Country</th>\n",
              "      <th>Sex</th>\n",
              "      <th>Display Value</th>\n",
              "      <th>Numeric</th>\n",
              "      <th>Low</th>\n",
              "      <th>High</th>\n",
              "      <th>Comments</th>\n",
              "    </tr>\n",
              "  </thead>\n",
              "  <tbody>\n",
              "    <tr>\n",
              "      <th>0</th>\n",
              "      <td>Life expectancy at birth (years)</td>\n",
              "      <td>Published</td>\n",
              "      <td>1990</td>\n",
              "      <td>Europe</td>\n",
              "      <td>High-income</td>\n",
              "      <td>Andorra</td>\n",
              "      <td>Both sexes</td>\n",
              "      <td>77</td>\n",
              "      <td>77.0</td>\n",
              "      <td></td>\n",
              "      <td></td>\n",
              "      <td></td>\n",
              "    </tr>\n",
              "    <tr>\n",
              "      <th>1</th>\n",
              "      <td>Life expectancy at birth (years)</td>\n",
              "      <td>Published</td>\n",
              "      <td>2000</td>\n",
              "      <td>Europe</td>\n",
              "      <td>High-income</td>\n",
              "      <td>Andorra</td>\n",
              "      <td>Both sexes</td>\n",
              "      <td>80</td>\n",
              "      <td>80.0</td>\n",
              "      <td></td>\n",
              "      <td></td>\n",
              "      <td></td>\n",
              "    </tr>\n",
              "    <tr>\n",
              "      <th>2</th>\n",
              "      <td>Life expectancy at age 60 (years)</td>\n",
              "      <td>Published</td>\n",
              "      <td>2012</td>\n",
              "      <td>Europe</td>\n",
              "      <td>High-income</td>\n",
              "      <td>Andorra</td>\n",
              "      <td>Female</td>\n",
              "      <td>28</td>\n",
              "      <td>28.0</td>\n",
              "      <td></td>\n",
              "      <td></td>\n",
              "      <td></td>\n",
              "    </tr>\n",
              "    <tr>\n",
              "      <th>3</th>\n",
              "      <td>Life expectancy at age 60 (years)</td>\n",
              "      <td>Published</td>\n",
              "      <td>2000</td>\n",
              "      <td>Europe</td>\n",
              "      <td>High-income</td>\n",
              "      <td>Andorra</td>\n",
              "      <td>Both sexes</td>\n",
              "      <td>23</td>\n",
              "      <td>23.0</td>\n",
              "      <td></td>\n",
              "      <td></td>\n",
              "      <td></td>\n",
              "    </tr>\n",
              "    <tr>\n",
              "      <th>4</th>\n",
              "      <td>Life expectancy at birth (years)</td>\n",
              "      <td>Published</td>\n",
              "      <td>2012</td>\n",
              "      <td>Eastern Mediterranean</td>\n",
              "      <td>High-income</td>\n",
              "      <td>United Arab Emirates</td>\n",
              "      <td>Female</td>\n",
              "      <td>78</td>\n",
              "      <td>78.0</td>\n",
              "      <td></td>\n",
              "      <td></td>\n",
              "      <td></td>\n",
              "    </tr>\n",
              "  </tbody>\n",
              "</table>\n",
              "</div>"
            ],
            "text/plain": [
              "                           Indicator PUBLISH STATES  Year  ... Low High Comments\n",
              "0   Life expectancy at birth (years)      Published  1990  ...                  \n",
              "1   Life expectancy at birth (years)      Published  2000  ...                  \n",
              "2  Life expectancy at age 60 (years)      Published  2012  ...                  \n",
              "3  Life expectancy at age 60 (years)      Published  2000  ...                  \n",
              "4   Life expectancy at birth (years)      Published  2012  ...                  \n",
              "\n",
              "[5 rows x 12 columns]"
            ]
          },
          "metadata": {
            "tags": []
          },
          "execution_count": 3
        }
      ]
    },
    {
      "cell_type": "code",
      "metadata": {
        "id": "EsnFAelY6b5c"
      },
      "source": [
        ""
      ],
      "execution_count": null,
      "outputs": []
    }
  ]
}