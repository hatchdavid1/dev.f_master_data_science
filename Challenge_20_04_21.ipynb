{
  "nbformat": 4,
  "nbformat_minor": 0,
  "metadata": {
    "kernelspec": {
      "display_name": "Python 3",
      "language": "python",
      "name": "python3"
    },
    "language_info": {
      "codemirror_mode": {
        "name": "ipython",
        "version": 3
      },
      "file_extension": ".py",
      "mimetype": "text/x-python",
      "name": "python",
      "nbconvert_exporter": "python",
      "pygments_lexer": "ipython3",
      "version": "3.8.5"
    },
    "colab": {
      "name": "Challenge_20_04_21.ipynb",
      "provenance": [],
      "include_colab_link": true
    }
  },
  "cells": [
    {
      "cell_type": "markdown",
      "metadata": {
        "id": "view-in-github",
        "colab_type": "text"
      },
      "source": [
        "<a href=\"https://colab.research.google.com/github/hatchdavid1/dev.f_master_data_science/blob/main/Challenge_20_04_21.ipynb\" target=\"_parent\"><img src=\"https://colab.research.google.com/assets/colab-badge.svg\" alt=\"Open In Colab\"/></a>"
      ]
    },
    {
      "cell_type": "markdown",
      "metadata": {
        "id": "d53-DCgOx3Rp"
      },
      "source": [
        "## Variables y tipos"
      ]
    },
    {
      "cell_type": "markdown",
      "metadata": {
        "id": "MDW3FF1vx3Rv"
      },
      "source": [
        "El objetivo de este ejercicio es crear una cadena, un entero y un número de coma flotante. La cadena debe llamarse mystring y debe contener la palabra \"hola\". El número de coma flotante debe llamarse myfloat y debe contener el número 10.0, y el número entero debe llamarse myint y debe contener el número 20."
      ]
    },
    {
      "cell_type": "code",
      "metadata": {
        "colab": {
          "base_uri": "https://localhost:8080/"
        },
        "id": "_VZJobUzx3Rw",
        "outputId": "19bc78b5-f9a2-46a5-8130-20547cfed148"
      },
      "source": [
        "mystring = 'Ésta variable es una cadena: HOLA'\n",
        "myfloat = 10.0 \n",
        "myint = 20\n",
        "\n",
        "\n",
        "# this code should write out the filled arrays and the second name in the names list (Eric).\n",
        "print('La cadena: \\n\\t', mystring)\n",
        "print('La variable tipo float: \\n\\t', myfloat)\n",
        "print('La variable tipo int: \\n\\t', myint)"
      ],
      "execution_count": 3,
      "outputs": [
        {
          "output_type": "stream",
          "text": [
            "La cadena: \n",
            "\t Ésta variable es una cadena: HOLA\n",
            "La variable tipo float: \n",
            "\t 10.0\n",
            "La variable tipo int: \n",
            "\t 20\n"
          ],
          "name": "stdout"
        }
      ]
    },
    {
      "cell_type": "markdown",
      "metadata": {
        "id": "iPXpJhtzx3Rx"
      },
      "source": [
        "## Listas"
      ]
    },
    {
      "cell_type": "markdown",
      "metadata": {
        "id": "pm_46ip8x3Rx"
      },
      "source": [
        "En este ejercicio, deberá agregar números y cadenas a las listas correctas utilizando el método `append`. Debe agregar los números 1, 2 y 3 a la lista de \"números\" y las palabras \"hola\" y \"mundo\" a la variable de cadenas.\n",
        "\n",
        "También deberá completar la variable second_name con el segundo nombre en la lista de nombres, utilizando el operador de corchetes []. Tenga en cuenta que el índice está basado en cero, por lo que si desea acceder al segundo elemento de la lista, su índice será 1."
      ]
    },
    {
      "cell_type": "code",
      "metadata": {
        "colab": {
          "base_uri": "https://localhost:8080/"
        },
        "id": "jmHV5bEox3Rx",
        "outputId": "e3d7f8ef-fdce-4e1e-a992-d7195b1fc6d9"
      },
      "source": [
        "names = [\"John\", \"Eric\", \"Jessica\"]\n",
        "\n",
        "num = [1,2,3]\n",
        "second_name = names[1]\n",
        "words = ['hola', 'mundo']\n",
        "numbers = [i for i in num]\n",
        "strings = [i for i in words]\n",
        "\n",
        "# this code should write out the filled arrays and the second name in the names list (Eric).\n",
        "# El siguiente código \n",
        "print('Lista de números: \\n\\t', numbers)\n",
        "print('Lista de strings: \\n\\t', strings)\n",
        "print(\"The second name on the names list is %s\" % second_name)"
      ],
      "execution_count": 5,
      "outputs": [
        {
          "output_type": "stream",
          "text": [
            "Lista de números: \n",
            "\t [1, 2, 3]\n",
            "Lista de strings: \n",
            "\t ['hola', 'mundo']\n",
            "The second name on the names list is Eric\n"
          ],
          "name": "stdout"
        }
      ]
    },
    {
      "cell_type": "markdown",
      "metadata": {
        "id": "4MLJhAeyx3Ry"
      },
      "source": [
        "## Operadores básicos"
      ]
    },
    {
      "cell_type": "markdown",
      "metadata": {
        "id": "1tt8phkJx3Ry"
      },
      "source": [
        "El objetivo de este ejercicio es crear dos listas llamadas `x_list` e `y_list`, que contienen 10 instancias de las variables `x` e `y`, respectivamente. También debe crear una lista llamada `big_list`, que contiene las variables `x` e `y`, 10 veces cada una, concatenando las dos listas que ha creado."
      ]
    },
    {
      "cell_type": "code",
      "metadata": {
        "id": "aZGw9DNcx3Ry"
      },
      "source": [
        "x = object()\n",
        "y = object()\n",
        "\n",
        "# TODO: change this code\n",
        "x_list = [x]\n",
        "y_list = [y]\n",
        "big_list = []\n",
        "\n",
        "print(\"x_list contains %d objects\" % len(x_list))\n",
        "print(\"y_list contains %d objects\" % len(y_list))\n",
        "print(\"big_list contains %d objects\" % len(big_list))\n",
        "\n",
        "# testing code\n",
        "if x_list.count(x) == 10 and y_list.count(y) == 10:\n",
        "    print(\"Almost there...\")\n",
        "if big_list.count(x) == 10 and big_list.count(y) == 10:\n",
        "    print(\"Great!\")"
      ],
      "execution_count": null,
      "outputs": []
    },
    {
      "cell_type": "markdown",
      "metadata": {
        "id": "EDvfekfFx3Rz"
      },
      "source": [
        "## Formato de cadenas de texto"
      ]
    },
    {
      "cell_type": "markdown",
      "metadata": {
        "id": "PwYtBxQUx3Rz"
      },
      "source": [
        "Aquí hay algunos especificadores de argumentos básicos que debe conocer:\n",
        "- `%s`: cadena (o cualquier objeto con una representación de cadena, como números) - %d: enteros\n",
        "- `%f`: números de coma flotante\n",
        "- `%.<número de dígitos>f`: números de coma flotante con una cantidad fija de dígitos a la derecha del punto.\n",
        "- `%x/%X`: números enteros en representación hexadecimal (minúsculas / mayúsculas)"
      ]
    },
    {
      "cell_type": "markdown",
      "metadata": {
        "id": "OLbuPkpEx3Rz"
      },
      "source": [
        "Deberá escribir una cadena de formato que imprima los datos utilizando la siguiente sintaxis: `Hola John Doe. Tu saldo actual es 53.44`"
      ]
    },
    {
      "cell_type": "code",
      "metadata": {
        "id": "-x1-5Xjfx3Rz"
      },
      "source": [
        "data = (\"John\", \"Doe\", 53.44)\n",
        "format_string = \"Hello\"\n",
        "\n",
        "print(format_string % data)"
      ],
      "execution_count": null,
      "outputs": []
    },
    {
      "cell_type": "markdown",
      "metadata": {
        "id": "e26H2uTTx3R0"
      },
      "source": [
        "## Condicionales"
      ]
    },
    {
      "cell_type": "markdown",
      "metadata": {
        "id": "OqVCTniVx3R0"
      },
      "source": [
        "Cambie las variables en la primera sección, de modo que cada instrucción `if` se resuelva como `True`."
      ]
    },
    {
      "cell_type": "code",
      "metadata": {
        "id": "aC29bgxKx3R1"
      },
      "source": [
        "# Cambia este código\n",
        "number = 10\n",
        "second_number = 10\n",
        "first_array = []\n",
        "second_array = [1,2,3]\n",
        "\n",
        "if number > 15:\n",
        "    print(\"1\")\n",
        "\n",
        "if first_array:\n",
        "    print(\"2\")\n",
        "\n",
        "if len(second_array) == 2:\n",
        "    print(\"3\")\n",
        "\n",
        "if len(first_array) + len(second_array) == 5:\n",
        "    print(\"4\")\n",
        "\n",
        "if first_array and first_array[0] == 1:\n",
        "    print(\"5\")\n",
        "\n",
        "if not second_number:\n",
        "    print(\"6\")"
      ],
      "execution_count": null,
      "outputs": []
    },
    {
      "cell_type": "markdown",
      "metadata": {
        "id": "YirryjKfx3R1"
      },
      "source": [
        "## Ciclos"
      ]
    },
    {
      "cell_type": "markdown",
      "metadata": {
        "id": "LmAMQdcux3R1"
      },
      "source": [
        "Recorra e imprima todos los números pares de la lista de números en el mismo orden en que los recibió. No imprima ningún número que venga después del 237 en la secuencia."
      ]
    },
    {
      "cell_type": "code",
      "metadata": {
        "id": "G3rMG5wmx3R1"
      },
      "source": [
        "numbers = [\n",
        "    951, 402, 984, 651, 360, 69, 408, 319, 601, 485, 980, 507, 725, 547, 544,\n",
        "    615, 83, 165, 141, 501, 263, 617, 865, 575, 219, 390, 984, 592, 236, 105, 942, 941,\n",
        "    386, 462, 47, 418, 907, 344, 236, 375, 823, 566, 597, 978, 328, 615, 953, 345,\n",
        "    399, 162, 758, 219, 918, 237, 412, 566, 826, 248, 866, 950, 626, 949, 687, 217,\n",
        "    815, 67, 104, 58, 512, 24, 892, 894, 767, 553, 81, 379, 843, 831, 445, 742, 717,\n",
        "    958, 609, 842, 451, 688, 753, 854, 685, 93, 857, 440, 380, 126, 721, 328, 753, 470,\n",
        "    743, 527\n",
        "]\n",
        "\n",
        "# Tu código aquí"
      ],
      "execution_count": null,
      "outputs": []
    },
    {
      "cell_type": "markdown",
      "metadata": {
        "id": "mb5epXv9x3R2"
      },
      "source": [
        "## Funciones"
      ]
    },
    {
      "cell_type": "markdown",
      "metadata": {
        "id": "XBDB_ywXx3R2"
      },
      "source": [
        "En este ejercicio, utilizará una función existente y, al mismo tiempo, agregará la suya para crear un programa completamente funcional.\n",
        "1. Agregue una función llamada list_benefits() que devuelva la siguiente lista de cadenas: \"Código más organizado\", \"Código más legible\", \"Reutilización de código más fácil\", \"Permitir a los programadores compartir y conectar código juntos\".\n",
        "2. Agregue una función llamada build_sentence(info) que recibe un solo argumento que contiene una cadena y devuelve una oración que comienza con la cadena dada y termina con la cadena \"¡es un beneficio de las funciones!\"\n",
        "3. ¡Ejecute y vea cómo todas las funciones funcionan juntas!"
      ]
    },
    {
      "cell_type": "code",
      "metadata": {
        "id": "aQtAgLmVx3R2"
      },
      "source": [
        "# Modifica esta función para devolver una lista de cadenas de texto (las del punto 1)\n",
        "def list_benefits():\n",
        "    pass\n",
        "\n",
        "# Modify this function to concatenate to each benefit - \" is a benefit of functions!\"\n",
        "# Modifica esta función para concatenar a cada benefit (la cadena de texto) \" es un beneficio de las funciones!\"\n",
        "def build_sentence(benefit):\n",
        "    pass\n",
        "\n",
        "def name_the_benefits_of_functions():\n",
        "    list_of_benefits = list_benefits()\n",
        "    for benefit in list_of_benefits:\n",
        "        print(build_sentence(benefit))\n",
        "\n",
        "name_the_benefits_of_functions()"
      ],
      "execution_count": null,
      "outputs": []
    }
  ]
}